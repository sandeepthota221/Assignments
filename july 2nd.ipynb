{
 "cells": [
  {
   "cell_type": "markdown",
   "id": "31a8e7ec",
   "metadata": {},
   "source": [
    "1. Explain what inheritance is in object-oriented programming and why it is used."
   ]
  },
  {
   "cell_type": "code",
   "execution_count": null,
   "id": "19d56547",
   "metadata": {},
   "outputs": [],
   "source": [
    "\"\"\"In object-oriented programming (OOP), inheritance is a fundamental concept that allows a class to inherit properties and behaviors from another class.\n",
    "It establishes a hierarchical relationship between classes, where a new class, known as a derived class or subclass,can inherit attributes and methods from an existing class, called the base class or superclass.\"\"\""
   ]
  },
  {
   "cell_type": "markdown",
   "id": "29e5cc1b",
   "metadata": {},
   "source": [
    "2. Discuss the concept of single inheritance and multiple inheritance, highlighting their\n",
    "differences and advantages."
   ]
  },
  {
   "cell_type": "code",
   "execution_count": null,
   "id": "dd4540e6",
   "metadata": {},
   "outputs": [],
   "source": [
    "\"\"\"Single inheritance is a form of inheritance where a derived class inherits from a single base class.\n",
    "This means that a class can have only one direct superclass.\n",
    "Simplicity: Single inheritance provides a straightforward and linear class hierarchy. \n",
    "It is easy to understand and maintain as there is only one direct base class.\"\"\"\n",
    "\n",
    "\"\"\"Multiple Inheritance:\n",
    "Multiple inheritance is a feature that allows a derived class to inherit from multiple base classes.\n",
    "In this approach, a class can have multiple direct superclasses, and it inherits the attributes and behaviors from all of them. \n",
    "Multiple inheritance offers flexibility and the ability to combine features from different classes\"\"\"\n",
    "\n",
    "#Disadvantages:\n",
    "\"\"\"1.Number of Base Classes: Single inheritance involves inheriting from a single base class, \n",
    "while multiple inheritance allows inheriting from multiple base classes.\n",
    "\n",
    "2.Complexity: Multiple inheritance is generally more complex than single inheritance due to the potential for conflicts and the need to manage and resolve them.\"\"\""
   ]
  },
  {
   "cell_type": "markdown",
   "id": "6f35a7b1",
   "metadata": {},
   "source": [
    "3. Explain the terms \"base class\" and \"derived class\" in the context of inheritance."
   ]
  },
  {
   "cell_type": "code",
   "execution_count": null,
   "id": "dca8208b",
   "metadata": {},
   "outputs": [],
   "source": [
    "#Base class:\n",
    "\"\"\" It is the class which gets derived by another class.\n",
    "    It is also called as a parent class which give its attributes and methods access to another class\"\"\"\n",
    "#Derived class:\n",
    "\"\"\"A derived class, also known as a subclass or child class, is a new class that is created by inheriting properties and behaviors from a base class\"\"\""
   ]
  },
  {
   "cell_type": "markdown",
   "id": "5b8ddae9",
   "metadata": {},
   "source": [
    "4. What is the significance of the \"protected\" access modifier in inheritance? How does\n",
    "it differ from \"private\" and \"public\" modifiers?"
   ]
  },
  {
   "cell_type": "code",
   "execution_count": null,
   "id": "effa6b7e",
   "metadata": {},
   "outputs": [],
   "source": [
    "\"\"\"In public access modifier all the attribute and methods are allowed to access anywhere like class itself or child class or also we can access them using object.\"\"\"\n",
    "\n",
    "\"\"\"In protected access modifier all the attribute and methods are allowed to access anywhere in class itself or child class but we can't access them using object.\"\"\"\n",
    "\n",
    "\"\"\" In private access modifier all its attributes and methods are accessible in only self class. there is no allow to child class and object to acess.\"\"\"\n"
   ]
  },
  {
   "cell_type": "markdown",
   "id": "1f5bc82f",
   "metadata": {},
   "source": [
    "5. What is the purpose of the \"super\" keyword in inheritance? Provide an example."
   ]
  },
  {
   "cell_type": "code",
   "execution_count": 2,
   "id": "69419975",
   "metadata": {},
   "outputs": [],
   "source": [
    "# Super keyword:\n",
    "\"\"\"It is used get parent class constructer into child class\"\"\"\n",
    "class Employee:\n",
    "    def __init__(self,name,age):\n",
    "        self.name=name\n",
    "        self.age=age\n",
    "class User(Employee):\n",
    "    def __init__(name,user_id):\n",
    "        self.user_id=user_id\n",
    "        super().__init__(name)"
   ]
  },
  {
   "cell_type": "markdown",
   "id": "da4d15f7",
   "metadata": {},
   "source": [
    "6. Create a base class called \"Vehicle\" with attributes like \"make\", \"model\", and \"year\".\n",
    "Then, create a derived class called \"Car\" that inherits from \"Vehicle\" and adds an\n",
    "attribute called \"fuel_type\". Implement appropriate methods in both classes."
   ]
  },
  {
   "cell_type": "code",
   "execution_count": 5,
   "id": "49bc908a",
   "metadata": {},
   "outputs": [
    {
     "name": "stdout",
     "output_type": "stream",
     "text": [
      "Starting the vehicle.\n",
      "Make: Seltose\n",
      "Model: 2022\n",
      "Year: Petrol\n",
      "fuel_type:KIA\n"
     ]
    }
   ],
   "source": [
    "class Vehicle:\n",
    "    def __init__(self,make,model,year):\n",
    "        self.make=make\n",
    "        self.model=model\n",
    "        self.year=year\n",
    "    def start(self):\n",
    "        print(\"Starting the vehicle.\")\n",
    "    def display_info(self):\n",
    "        print(f\"Make: {self.make}\")\n",
    "        print(f\"Model: {self.model}\")\n",
    "        print(f\"Year: {self.year}\")\n",
    "        \n",
    "class Car(Vehicle):\n",
    "    def __init__(self,fuel_type,make,model,year):\n",
    "        self.fuel_type=fuel_type\n",
    "        super().__init__(make,model,year)\n",
    "    def start(self):\n",
    "        super().start()\n",
    "    def display_info(self):\n",
    "        super().display_info()\n",
    "        print(f\"fuel_type:{self.fuel_type}\")\n",
    "car = Car(\"KIA\", \"Seltose\", 2022, \"Petrol\")\n",
    "car.start()\n",
    "car.display_info()"
   ]
  },
  {
   "cell_type": "markdown",
   "id": "5b4404a6",
   "metadata": {},
   "source": [
    "7. Create a base class called \"Employee\" with attributes like \"name\" and \"salary.\"\n",
    "Derive two classes, \"Manager\" and \"Developer,\" from \"Employee.\" Add an additional\n",
    "attribute called \"department\" for the \"Manager\" class and \"programming_language\"\n",
    "for the \"Developer\" class."
   ]
  },
  {
   "cell_type": "code",
   "execution_count": 6,
   "id": "c724b55c",
   "metadata": {},
   "outputs": [],
   "source": [
    "class Employee:\n",
    "    def __init__(self,name,salary):\n",
    "        self.name=name\n",
    "        self.salary=salary\n",
    "class Manager(Employee):\n",
    "    def __init__(self,department,name,salary):\n",
    "        self.department=department\n",
    "        super().__init__(name,salary)\n",
    "class Developer(Employee):\n",
    "    def __init__(self,programming_language,name,salary):\n",
    "        self.programming_language=programming_language\n",
    "        super().__init__(name,salary)\n",
    "    "
   ]
  },
  {
   "cell_type": "markdown",
   "id": "88016baa",
   "metadata": {},
   "source": [
    "8. Design a base class called \"Shape\" with attributes like \"colour\" and \"border_width.\"\n",
    "Create derived classes, \"Rectangle\" and \"Circle,\" that inherit from \"Shape\" and add\n",
    "specific attributes like \"length\" and \"width\" for the \"Rectangle\" class and \"radius\" for\n",
    "the \"Circle\" class."
   ]
  },
  {
   "cell_type": "code",
   "execution_count": 7,
   "id": "7d83eccd",
   "metadata": {},
   "outputs": [],
   "source": [
    "class Shape:\n",
    "    def __init__(self, colour, border_width):\n",
    "        self.colour = colour\n",
    "        self.border_width = border_width\n",
    "\n",
    "class Rectangle(Shape):\n",
    "    def __init__(self, colour, border_width, length, width):\n",
    "        super().__init__(colour, border_width)\n",
    "        self.length = length\n",
    "        self.width = width\n",
    "\n",
    "class Circle(Shape):\n",
    "    def __init__(self, colour, border_width, radius):\n",
    "        super().__init__(colour, border_width)\n",
    "        self.radius = radius\n",
    "\n",
    "rectangle = Rectangle(\"Blue\", 2, 10, 5)\n",
    "circle = Circle(\"Red\", 1, 7)\n"
   ]
  },
  {
   "cell_type": "markdown",
   "id": "1c05ec21",
   "metadata": {},
   "source": [
    "9. Create a base class called \"Device\" with attributes like \"brand\" and \"model.\" Derive\n",
    "two classes, \"Phone\" and \"Tablet,\" from \"Device.\" Add specific attributes like\n",
    "\"screen_size\" for the \"Phone\" class and \"battery_capacity\" for the \"Tablet\" class."
   ]
  },
  {
   "cell_type": "code",
   "execution_count": 8,
   "id": "8d6ea09e",
   "metadata": {},
   "outputs": [
    {
     "name": "stdout",
     "output_type": "stream",
     "text": [
      "Brand: Realme\n",
      "Model: GT2\n",
      "Screen Size: 6.2 inches\n",
      "Brand: Samsung\n",
      "Model: Galaxy Tab S7\n",
      "Battery Capacity: 8000 mAh\n"
     ]
    }
   ],
   "source": [
    "class Device:\n",
    "    def __init__(self, brand, model):\n",
    "        self.brand = brand\n",
    "        self.model = model\n",
    "    def display_info(self):\n",
    "        print(f\"Brand: {self.brand}\")\n",
    "        print(f\"Model: {self.model}\")\n",
    "        \n",
    "class Phone(Device):\n",
    "    def __init__(self, brand, model, screen_size):\n",
    "        super().__init__(brand, model)\n",
    "        self.screen_size = screen_size\n",
    "    def display_info(self):\n",
    "        super().display_info()\n",
    "        print(f\"Screen Size: {self.screen_size}\")\n",
    "\n",
    "class Tablet(Device):\n",
    "    def __init__(self, brand, model, battery_capacity):\n",
    "        super().__init__(brand, model)\n",
    "        self.battery_capacity = battery_capacity\n",
    "\n",
    "    def display_info(self):\n",
    "        super().display_info()\n",
    "        print(f\"Battery Capacity: {self.battery_capacity}\")\n",
    "\n",
    "\n",
    "phone = Phone(\"Realme\", \"GT2\", \"6.2 inches\")\n",
    "phone.display_info()\n",
    "\n",
    "tablet = Tablet(\"Samsung\", \"Galaxy Tab S7\", \"8000 mAh\")\n",
    "tablet.display_info()\n"
   ]
  },
  {
   "cell_type": "markdown",
   "id": "14cf74ce",
   "metadata": {},
   "source": [
    "10. Create a base class called \"BankAccount\" with attributes like \"account_number\" and\n",
    "\"balance.\" Derive two classes, \"SavingsAccount\" and \"CheckingAccount,\" from\n",
    "\"BankAccount.\" Add specific methods like \"calculate_interest\" for the\n",
    "\"SavingsAccount\" class and \"deduct_fees\" for the \"CheckingAccount\" class."
   ]
  },
  {
   "cell_type": "code",
   "execution_count": 9,
   "id": "e19c7527",
   "metadata": {},
   "outputs": [
    {
     "name": "stdout",
     "output_type": "stream",
     "text": [
      "Account Number: 01001000\n",
      "Balance: 1000\n",
      "Interest added. Current balance: 1050.0\n",
      "\n",
      "Account Number: 0003297\n",
      "Balance: 2000\n",
      "Fees deducted. Current balance: 1950\n"
     ]
    }
   ],
   "source": [
    "class BankAccount:\n",
    "    def __init__(self, account_number, balance):\n",
    "        self.account_number = account_number\n",
    "        self.balance = balance\n",
    "\n",
    "    def display_info(self):\n",
    "        print(f\"Account Number: {self.account_number}\")\n",
    "        print(f\"Balance: {self.balance}\")\n",
    "\n",
    "\n",
    "class SavingsAccount(BankAccount):\n",
    "    def __init__(self, account_number, balance):\n",
    "        super().__init__(account_number, balance)\n",
    "\n",
    "    def calculate_interest(self, interest_rate):\n",
    "        interest = self.balance * interest_rate\n",
    "        self.balance += interest\n",
    "        print(f\"Interest added. Current balance: {self.balance}\")\n",
    "\n",
    "\n",
    "class CheckingAccount(BankAccount):\n",
    "    def __init__(self, account_number, balance):\n",
    "        super().__init__(account_number, balance)\n",
    "\n",
    "    def deduct_fees(self, fee_amount):\n",
    "        self.balance -= fee_amount\n",
    "        print(f\"Fees deducted. Current balance: {self.balance}\")\n",
    "\n",
    "\n",
    "savings = SavingsAccount(\"01001000\", 1000)\n",
    "savings.display_info()\n",
    "savings.calculate_interest(0.05)\n",
    "print() \n",
    "\n",
    "checking = CheckingAccount(\"0003297\", 2000)\n",
    "checking.display_info()\n",
    "checking.deduct_fees(50)"
   ]
  }
 ],
 "metadata": {
  "kernelspec": {
   "display_name": "Python 3 (ipykernel)",
   "language": "python",
   "name": "python3"
  },
  "language_info": {
   "codemirror_mode": {
    "name": "ipython",
    "version": 3
   },
   "file_extension": ".py",
   "mimetype": "text/x-python",
   "name": "python",
   "nbconvert_exporter": "python",
   "pygments_lexer": "ipython3",
   "version": "3.10.1"
  }
 },
 "nbformat": 4,
 "nbformat_minor": 5
}
